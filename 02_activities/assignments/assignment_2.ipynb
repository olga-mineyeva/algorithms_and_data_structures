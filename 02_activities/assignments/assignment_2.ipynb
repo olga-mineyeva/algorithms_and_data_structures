{
 "cells": [
  {
   "cell_type": "markdown",
   "metadata": {},
   "source": [
    "# Practice Interview\n",
    "\n",
    "## Objective\n",
    "\n",
    "_*The partner assignment aims to provide participants with the opportunity to practice coding in an interview context. You will analyze your partner's Assignment 1. Moreover, code reviews are common practice in a software development team. This assignment should give you a taste of the code review process.*_\n",
    "\n",
    "## Group Size\n",
    "\n",
    "Each group should have 2 people. You will be assigned a partner\n",
    "\n",
    "## Part 1:\n",
    "\n",
    "You and your partner must share each other's Assignment 1 submission."
   ]
  },
  {
   "cell_type": "markdown",
   "metadata": {},
   "source": [
    "\n",
    "## Part 2:\n",
    "\n",
    "Create a Jupyter Notebook, create 6 of the following headings, and complete the following for your partner's assignment 1:\n",
    "\n",
    "-   Paraphrase the problem in your own words.\n"
   ]
  },
  {
   "cell_type": "code",
   "execution_count": 16,
   "metadata": {},
   "outputs": [],
   "source": [
    "# The input is a list of unique or non-unique integers from 0 to n. \n",
    "# The output of a function is a list of missing numbers form the input list, \n",
    "# or -1 if a missing number does not exist. "
   ]
  },
  {
   "cell_type": "markdown",
   "metadata": {},
   "source": [
    "\n",
    "-   Create 1 new example that demonstrates you understand the problem. Trace/walkthrough 1 example that your partner made and explain it.\n"
   ]
  },
  {
   "cell_type": "code",
   "execution_count": null,
   "metadata": {},
   "outputs": [
    {
     "name": "stdout",
     "output_type": "stream",
     "text": [
      "1. Expected output [new]:  [2, 5, 6, 7, 8]\n",
      "1. Expected output [1]:  [1]\n"
     ]
    }
   ],
   "source": [
    "# Test example\n",
    "print('1. Expected output [new]: ', missing_num([0, 9, 4, 3, 4, 1]))\n",
    "\n",
    "print('1. Expected output [1]: ', missing_num([0,2, 2]))"
   ]
  },
  {
   "cell_type": "markdown",
   "metadata": {},
   "source": [
    "\n",
    "-   Copy the solution your partner wrote. \n"
   ]
  },
  {
   "cell_type": "code",
   "execution_count": 46,
   "metadata": {},
   "outputs": [],
   "source": [
    "def missing_num(nums):\n",
    "   if len(nums)==0:                                 # O(1)\n",
    "      return -1\n",
    "   n = max(nums)                                    # O(n)\n",
    "   \n",
    "   n_range = set([x for x in range(n)])             # O(n) \n",
    "   \n",
    "   missing_set = n_range - set(nums)                # O(n)      \n",
    "   \n",
    "   missing_list = [x for x in missing_set]          # O(n)\n",
    "   \n",
    "   if len(missing_list)==0:                         # O(1)             \n",
    "      return -1\n",
    "   else: return sorted(missing_list)                # O(nlogn)"
   ]
  },
  {
   "cell_type": "markdown",
   "metadata": {},
   "source": [
    "\n",
    "-   Explain why their solution works in your own words.\n"
   ]
  },
  {
   "cell_type": "code",
   "execution_count": null,
   "metadata": {},
   "outputs": [],
   "source": [
    "# The first condition is not satisfyied fro both examples, so\n",
    "# the largerst number in the input list is defined.\n",
    "# A set is created with a range() funciton, based on the largest number defined in the previous step.\n",
    "# The missing numbers are found as the difference between the 'range' set and a set created from the original list getting rid of duplicates\n",
    "# The set of missing numbers is converted to a list.\n",
    "# The final list is checked for being empty and \n",
    "# then a sorted list is returned."
   ]
  },
  {
   "cell_type": "markdown",
   "metadata": {},
   "source": [
    "\n",
    "-   Explain the problem’s time and space complexity in your own words.\n"
   ]
  },
  {
   "cell_type": "code",
   "execution_count": 40,
   "metadata": {},
   "outputs": [],
   "source": [
    "# Time complexity: \n",
    "\n",
    "# if len(nums)==0:                                 \n",
    "#       return -1\n",
    "# checking the if condition is O(1)\n",
    "\n",
    "# n = max(nums)\n",
    "# Defining the max number with the max function would iterate through the input list, \n",
    "# so it depends on the size of the input list, therefore the time complexity is O(n)\n",
    "\n",
    "# n_range = set([x for x in range(n)])\n",
    "# Creating a list based on the previous step would depend on the size of the list in the previous step, so O(n).\n",
    "# Creating a set from the list is O(n).\n",
    "\n",
    "# missing_set = n_range - set(nums)\n",
    "# Creating a set from nums list is O(n).\n",
    "# Finding a missing set by substraction operation iterates through the sets and depends on their ,\n",
    "# so the time complexity is O(n)\n",
    "\n",
    "# missing_list = [x for x in missing_set]\n",
    "# Creating a list from a set is iterating through the missing set and depends on the set size,\n",
    "# so the time complexity is O(n).\n",
    "\n",
    "# if len(missing_list)==0:          \n",
    "#       return -1\n",
    "# Checking if condition is O(1).\n",
    "\n",
    "# else: return sorted(missing_list) \n",
    "# Returning a sorted list is O(nlogn).\n",
    "\n",
    "# The overall time complexity is influenced by the longest operation which is O(n log n), therefore\n",
    "# the overall time complexity is O(nlogn).\n",
    "\n",
    "# Space complexity:\n",
    "# All steps except checking if condition are of O(n).\n",
    "# Overall spece complexity is O(n). \n",
    "\n",
    "\n"
   ]
  },
  {
   "cell_type": "code",
   "execution_count": null,
   "metadata": {},
   "outputs": [
    {
     "data": {
      "text/plain": [
       "[0]"
      ]
     },
     "execution_count": 43,
     "metadata": {},
     "output_type": "execute_result"
    }
   ],
   "source": [
    "missing_num([1, 1])"
   ]
  },
  {
   "cell_type": "markdown",
   "metadata": {},
   "source": [
    "\n",
    "-   Critique your partner's solution, including explanation, and if there is anything that should be adjusted.\n"
   ]
  },
  {
   "cell_type": "code",
   "execution_count": null,
   "metadata": {},
   "outputs": [],
   "source": [
    "# The  time complexity of the solution is defined by the last sorting step \n",
    "# (as this is the longest operation), however sorting wasn't required in the problem.\n",
    "# So based on the problem this last sorting step can be skipped \n",
    "# to improve time complexity (O(nlogn) -> O(n)):\n",
    "\n",
    "# if len(missing_list)==0:         \n",
    "#       return -1\n",
    "#    else: return sorted(missing_list)  \n",
    "\n",
    "# can be replaced with \n",
    "\n",
    "# return missing_list if missing_list else -1"
   ]
  },
  {
   "cell_type": "markdown",
   "metadata": {},
   "source": [
    "\n",
    "## Part 3:\n",
    "\n",
    "Please write a 200 word reflection documenting your process from assignment 1, and your presentation and review experience with your partner at the bottom of the Jupyter Notebook under a new heading \"Reflection.\" Again, export this Notebook as pdf.\n"
   ]
  },
  {
   "cell_type": "markdown",
   "metadata": {},
   "source": [
    "### Reflection"
   ]
  },
  {
   "cell_type": "code",
   "execution_count": 47,
   "metadata": {},
   "outputs": [],
   "source": [
    "# I reviewed my partner’s solution to a problem that requires finding missing integers \n",
    "# in a given list in a range of 0 to n. The solution is effective and very simple; \n",
    "# it includes just 2 if conditions and no loops or recursive functions. \n",
    "# During my review process, I found that my partner included examples testing appropriate edge cases. \n",
    "# The explanations for how the solution works and what is the efficiency are very clear and easy to follow. \n",
    "\n",
    "# I find that though the solution is simple, it contains an efficiency issue. \n",
    "# If the solution is corrected to get rid of the unnecessary sorting step at the end of the function, \n",
    "# it’s efficiency would be O(n), which is the same as the efficiency of a minimal recursive function. \n",
    "# The provided time and space complexity explanation did not include a comment on the overall time \n",
    "# and space complexity. Addressing the overall time complexity could identify that the sorting step \n",
    "# is critical for the function efficiency.   \n",
    "\n",
    "# There is also a slight readability issue. The solution included list and set comprehensions, \n",
    "# while built-in functions of the same efficiency (or slightly bigger) could be used instead, \n",
    "# which would improve readability.\n",
    "\n",
    "# Overall, this review taught me about improving efficiency and code readability, \n",
    "# while my partner’s explanations taught me the way to efficiently communicate \n",
    "# the problem and how the code works.    \n"
   ]
  },
  {
   "cell_type": "markdown",
   "metadata": {},
   "source": [
    "\n",
    "## Evaluation Criteria\n",
    "\n",
    "We are looking for the similar points as Assignment 1\n",
    "\n",
    "-   Problem is accurately stated\n",
    "\n",
    "-   New example is correct and easily understandable\n",
    "\n",
    "-   Correctness, time, and space complexity of the coding solution\n",
    "\n",
    "-   Clarity in explaining why the solution works, its time and space complexity\n",
    "\n",
    "-   Quality of critique of your partner's assignment, if necessary\n"
   ]
  },
  {
   "cell_type": "markdown",
   "metadata": {},
   "source": [
    "## Submission Information\n",
    "\n",
    "🚨 **Please review our [Assignment Submission Guide](https://github.com/UofT-DSI/onboarding/blob/main/onboarding_documents/submissions.md)** 🚨 for detailed instructions on how to format, branch, and submit your work. Following these guidelines is crucial for your submissions to be evaluated correctly.\n",
    "\n",
    "### Submission Parameters:\n",
    "* Submission Due Date: `HH:MM AM/PM - DD/MM/YYYY`\n",
    "* The branch name for your repo should be: `assignment-2`\n",
    "* What to submit for this assignment:\n",
    "    * This Jupyter Notebook (assignment_2.ipynb) should be populated and should be the only change in your pull request.\n",
    "* What the pull request link should look like for this assignment: `https://github.com/<your_github_username>/algorithms_and_data_structures/pull/<pr_id>`\n",
    "    * Open a private window in your browser. Copy and paste the link to your pull request into the address bar. Make sure you can see your pull request properly. This helps the technical facilitator and learning support staff review your submission easily.\n",
    "\n",
    "Checklist:\n",
    "- [ ] Created a branch with the correct naming convention.\n",
    "- [ ] Ensured that the repository is public.\n",
    "- [ ] Reviewed the PR description guidelines and adhered to them.\n",
    "- [ ] Verify that the link is accessible in a private browser window.\n",
    "\n",
    "If you encounter any difficulties or have questions, please don't hesitate to reach out to our team via our Slack at `#cohort-3-help`. Our Technical Facilitators and Learning Support staff are here to help you navigate any challenges.\n"
   ]
  }
 ],
 "metadata": {
  "kernelspec": {
   "display_name": "dsi_participant",
   "language": "python",
   "name": "python3"
  },
  "language_info": {
   "codemirror_mode": {
    "name": "ipython",
    "version": 3
   },
   "file_extension": ".py",
   "mimetype": "text/x-python",
   "name": "python",
   "nbconvert_exporter": "python",
   "pygments_lexer": "ipython3",
   "version": "3.9.15"
  }
 },
 "nbformat": 4,
 "nbformat_minor": 2
}
